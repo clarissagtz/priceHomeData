{
 "cells": [
  {
   "cell_type": "markdown",
   "metadata": {},
   "source": [
    "# COGS 108 - Data Checkpoint"
   ]
  },
  {
   "cell_type": "markdown",
   "metadata": {},
   "source": [
    "# Names\n",
    "\n",
    "- Ant Man\n",
    "- Hulk\n",
    "- Iron Man\n",
    "- Thor\n",
    "- Wasp"
   ]
  },
  {
   "cell_type": "markdown",
   "metadata": {},
   "source": [
    "<a id='research_question'></a>\n",
    "# Research Question"
   ]
  },
  {
   "cell_type": "markdown",
   "metadata": {},
   "source": [
    "*Fill in your research question here*"
   ]
  },
  {
   "cell_type": "markdown",
   "metadata": {},
   "source": [
    "# Dataset(s)"
   ]
  },
  {
   "cell_type": "markdown",
   "metadata": {},
   "source": [
    "*Fill in your dataset information here*\n",
    "\n",
    "(Copy this information for each dataset)\n",
    "- Dataset Name:\n",
    "- Link to the dataset:\n",
    "- Number of observations:\n",
    "\n",
    "1-2 sentences describing each dataset. \n",
    "\n",
    "If you plan to use multiple datasets, add 1-2 sentences about how you plan to combine these datasets."
   ]
  },
  {
   "cell_type": "markdown",
   "metadata": {},
   "source": [
    "# Setup"
   ]
  },
  {
   "cell_type": "code",
   "execution_count": 1,
   "metadata": {},
   "outputs": [],
   "source": [
    "## YOUR CODE HERE"
   ]
  },
  {
   "cell_type": "code",
   "execution_count": 2,
   "metadata": {},
   "outputs": [],
   "source": [
    "import numpy as np\n",
    "import pandas as pd\n",
    "import matplotlib.pyplot as plt\n",
    "import seaborn as sns"
   ]
  },
  {
   "cell_type": "code",
   "execution_count": 3,
   "metadata": {},
   "outputs": [],
   "source": [
    "# Configure libraries\n",
    "# The seaborn library makes plots look nicer\n",
    "sns.set(context = 'talk', style='white')\n",
    "\n",
    "# Don't display too many rows/cols of DataFrames\n",
    "pd.options.display.max_rows = 7\n",
    "pd.options.display.max_columns = 8\n",
    "\n",
    "# Round decimals when displaying DataFrames\n",
    "pd.set_option('display.precision', 2)\n",
    "\n",
    "# Make plots just slightly bigger for displaying well in notebook\n",
    "# set plotting size parameter\n",
    "plt.rcParams['figure.figsize'] = (10, 5)"
   ]
  },
  {
   "cell_type": "code",
   "execution_count": 4,
   "metadata": {},
   "outputs": [],
   "source": [
    "df_92130_2beds = pd.read_csv(\"https://raw.githubusercontent.com/clarissagtz/priceHomeData/main/92130%202beds.csv\")\n",
    "df_92130_3beds = pd.read_csv(\"https://raw.githubusercontent.com/clarissagtz/priceHomeData/main/92130%203beds.csv\")\n",
    "df_92126_2beds = pd.read_csv(\"https://raw.githubusercontent.com/clarissagtz/priceHomeData/main/92126%202beds.csv\")\n",
    "df_92126_3beds = pd.read_csv(\"https://raw.githubusercontent.com/clarissagtz/priceHomeData/main/92126%203beds.csv\")\n",
    "df_92123_2beds = pd.read_csv(\"https://raw.githubusercontent.com/clarissagtz/priceHomeData/main/92123%202%20beds.csv\")\n",
    "df_92123_3beds = pd.read_csv(\"https://raw.githubusercontent.com/clarissagtz/priceHomeData/main/92123%203beds.csv\")\n",
    "df_92122_2beds = pd.read_csv(\"https://raw.githubusercontent.com/clarissagtz/priceHomeData/main/92122%202%20beds.csv\")\n",
    "df_92122_3beds = pd.read_csv(\"https://raw.githubusercontent.com/clarissagtz/priceHomeData/main/92122%203beds.csv\")\n",
    "df_92113_2beds = pd.read_csv(\"https://raw.githubusercontent.com/clarissagtz/priceHomeData/main/92113%202beds.csv\")\n",
    "df_92113_3beds = pd.read_csv(\"https://raw.githubusercontent.com/clarissagtz/priceHomeData/main/92113%203beds.csv\")\n",
    "df_92037_2beds = pd.read_csv(\"https://raw.githubusercontent.com/clarissagtz/priceHomeData/main/92037%202beds.csv\")\n",
    "df_92037_3beds = pd.read_csv(\"https://raw.githubusercontent.com/clarissagtz/priceHomeData/main/92037%203beds.csv\")\n",
    "df_92020_2beds = pd.read_csv(\"https://raw.githubusercontent.com/clarissagtz/priceHomeData/main/92020%202beds.csv\")\n",
    "df_92020_3beds = pd.read_csv(\"https://raw.githubusercontent.com/clarissagtz/priceHomeData/main/92020%203beds.csv\")\n",
    "df_92014_2beds = pd.read_csv(\"https://raw.githubusercontent.com/clarissagtz/priceHomeData/main/92014%202%20beds.csv\")\n",
    "df_92014_3beds = pd.read_csv(\"https://raw.githubusercontent.com/clarissagtz/priceHomeData/main/92014%203%20beds.csv\")\n",
    "df_92950_2beds = pd.read_csv(\"https://raw.githubusercontent.com/clarissagtz/priceHomeData/main/91950%202%20beds.csv\")\n",
    "df_92950_3beds = pd.read_csv(\"https://raw.githubusercontent.com/clarissagtz/priceHomeData/main/91950%203%20beds.csv\")\n",
    "df_median_income = pd.read_csv"
   ]
  },
  {
   "cell_type": "code",
   "execution_count": 5,
   "metadata": {},
   "outputs": [
    {
     "data": {
      "text/plain": [
       "Index(['ListItem-c11n-8-82-3__sc-10e22w8-0',\n",
       "       'StyledPropertyCardDataArea-c11n-8-82-3__sc-yipmu-0 href',\n",
       "       'StyledPropertyCardDataArea-c11n-8-82-3__sc-yipmu-0',\n",
       "       'StyledPropertyCardDataArea-c11n-8-82-3__sc-yipmu-0 2',\n",
       "       'StyledPropertyCardDataArea-c11n-8-82-3__sc-yipmu-0 3',\n",
       "       'StyledPropertyCardDataArea-c11n-8-82-3__sc-yipmu-0 4',\n",
       "       'StyledPropertyCardHomeDetailsList-c11n-8-82-3__sc-1xvdaej-0',\n",
       "       'StyledPropertyCardHomeDetailsList-c11n-8-82-3__sc-1xvdaej-0 2',\n",
       "       'StyledPropertyCardHomeDetailsList-c11n-8-82-3__sc-1xvdaej-0 3',\n",
       "       'StyledPropertyCardHomeDetailsList-c11n-8-82-3__sc-1xvdaej-0 4',\n",
       "       'StyledPropertyCardHomeDetailsList-c11n-8-82-3__sc-1xvdaej-0 5',\n",
       "       'StyledPropertyCardHomeDetailsList-c11n-8-82-3__sc-1xvdaej-0 6',\n",
       "       'StyledPropertyCardBadge-c11n-8-82-3__sc-6gojrl-0',\n",
       "       'Image-c11n-8-82-3__sc-1rtmhsc-0 src',\n",
       "       'StyledButtonIcon-c11n-8-82-3__sc-wpcbcc-1'],\n",
       "      dtype='object')"
      ]
     },
     "execution_count": 5,
     "metadata": {},
     "output_type": "execute_result"
    }
   ],
   "source": [
    "df_92130_2beds.columns"
   ]
  },
  {
   "cell_type": "code",
   "execution_count": 6,
   "metadata": {},
   "outputs": [],
   "source": [
    "df_list = [df_92130_2beds,df_92130_3beds,df_92126_2beds,df_92126_3beds,df_92123_2beds,df_92123_3beds,df_92122_2beds,df_92122_3beds,df_92113_2beds,df_92113_3beds\n",
    "          ,df_92037_2beds,df_92037_3beds,df_92020_2beds,df_92020_3beds,df_92014_2beds,df_92014_3beds,df_92950_2beds,df_92950_3beds]"
   ]
  },
  {
   "cell_type": "code",
   "execution_count": 14,
   "metadata": {},
   "outputs": [],
   "source": [
    "for df in df_list:\n",
    "    l = []\n",
    "    for i in df.columns:\n",
    "        if i==\"StyledPropertyCardDataArea-c11n-8-82-3__sc-yipmu-0 3\":\n",
    "            l.append(\"Home price\")\n",
    "        elif i==\"StyledPropertyCardDataArea-c11n-8-82-3__sc-yipmu-0\":\n",
    "            l.append(\"Home address\")\n",
    "        else:\n",
    "            l.append(1)\n",
    "    df.columns = l"
   ]
  },
  {
   "cell_type": "code",
   "execution_count": 8,
   "metadata": {},
   "outputs": [],
   "source": [
    "\n",
    "df_92130_2beds=df_92130_2beds.drop(columns=[1])"
   ]
  },
  {
   "cell_type": "code",
   "execution_count": 9,
   "metadata": {},
   "outputs": [
    {
     "data": {
      "text/html": [
       "<div>\n",
       "<style scoped>\n",
       "    .dataframe tbody tr th:only-of-type {\n",
       "        vertical-align: middle;\n",
       "    }\n",
       "\n",
       "    .dataframe tbody tr th {\n",
       "        vertical-align: top;\n",
       "    }\n",
       "\n",
       "    .dataframe thead th {\n",
       "        text-align: right;\n",
       "    }\n",
       "</style>\n",
       "<table border=\"1\" class=\"dataframe\">\n",
       "  <thead>\n",
       "    <tr style=\"text-align: right;\">\n",
       "      <th></th>\n",
       "      <th>Home address</th>\n",
       "      <th>Home price</th>\n",
       "    </tr>\n",
       "  </thead>\n",
       "  <tbody>\n",
       "    <tr>\n",
       "      <th>0</th>\n",
       "      <td>11652 Tierra Del Sur, San Diego, CA 92130</td>\n",
       "      <td>$2.24M</td>\n",
       "    </tr>\n",
       "    <tr>\n",
       "      <th>1</th>\n",
       "      <td>12416 Ruette Alliante, San Diego, CA 92130</td>\n",
       "      <td>$1.95M</td>\n",
       "    </tr>\n",
       "    <tr>\n",
       "      <th>2</th>\n",
       "      <td>NaN</td>\n",
       "      <td>NaN</td>\n",
       "    </tr>\n",
       "    <tr>\n",
       "      <th>3</th>\n",
       "      <td>5102 Triple Crown Row, San Diego, CA 92130</td>\n",
       "      <td>- Sold</td>\n",
       "    </tr>\n",
       "    <tr>\n",
       "      <th>4</th>\n",
       "      <td>5141 Tattersall Sq, San Diego, CA 92130</td>\n",
       "      <td>$1.80M</td>\n",
       "    </tr>\n",
       "  </tbody>\n",
       "</table>\n",
       "</div>"
      ],
      "text/plain": [
       "                                 Home address Home price\n",
       "0   11652 Tierra Del Sur, San Diego, CA 92130     $2.24M\n",
       "1  12416 Ruette Alliante, San Diego, CA 92130     $1.95M\n",
       "2                                         NaN        NaN\n",
       "3  5102 Triple Crown Row, San Diego, CA 92130     - Sold\n",
       "4     5141 Tattersall Sq, San Diego, CA 92130     $1.80M"
      ]
     },
     "execution_count": 9,
     "metadata": {},
     "output_type": "execute_result"
    }
   ],
   "source": [
    "df_92130_2beds.head()"
   ]
  },
  {
   "cell_type": "code",
   "execution_count": 15,
   "metadata": {},
   "outputs": [],
   "source": [
    "for i in range(0,18):\n",
    "    df_list[i] = df_list[i].drop(columns=[1])"
   ]
  },
  {
   "cell_type": "code",
   "execution_count": 11,
   "metadata": {},
   "outputs": [
    {
     "data": {
      "text/html": [
       "<div>\n",
       "<style scoped>\n",
       "    .dataframe tbody tr th:only-of-type {\n",
       "        vertical-align: middle;\n",
       "    }\n",
       "\n",
       "    .dataframe tbody tr th {\n",
       "        vertical-align: top;\n",
       "    }\n",
       "\n",
       "    .dataframe thead th {\n",
       "        text-align: right;\n",
       "    }\n",
       "</style>\n",
       "<table border=\"1\" class=\"dataframe\">\n",
       "  <thead>\n",
       "    <tr style=\"text-align: right;\">\n",
       "      <th></th>\n",
       "      <th>Home address</th>\n",
       "      <th>Home price</th>\n",
       "    </tr>\n",
       "  </thead>\n",
       "  <tbody>\n",
       "    <tr>\n",
       "      <th>0</th>\n",
       "      <td>3172 W Canyon Ave, San Diego, CA 92123</td>\n",
       "      <td>- Sold</td>\n",
       "    </tr>\n",
       "    <tr>\n",
       "      <th>1</th>\n",
       "      <td>2750 W Canyon Ave, San Diego, CA 92123</td>\n",
       "      <td>- Sold</td>\n",
       "    </tr>\n",
       "    <tr>\n",
       "      <th>2</th>\n",
       "      <td>NaN</td>\n",
       "      <td>NaN</td>\n",
       "    </tr>\n",
       "    <tr>\n",
       "      <th>3</th>\n",
       "      <td>2405 Mammoth Dr, San Diego, CA 92123</td>\n",
       "      <td>$1.35M</td>\n",
       "    </tr>\n",
       "    <tr>\n",
       "      <th>4</th>\n",
       "      <td>3176 W Canyon Ave, San Diego, CA 92123</td>\n",
       "      <td>- Sold</td>\n",
       "    </tr>\n",
       "  </tbody>\n",
       "</table>\n",
       "</div>"
      ],
      "text/plain": [
       "                             Home address Home price\n",
       "0  3172 W Canyon Ave, San Diego, CA 92123     - Sold\n",
       "1  2750 W Canyon Ave, San Diego, CA 92123     - Sold\n",
       "2                                     NaN        NaN\n",
       "3    2405 Mammoth Dr, San Diego, CA 92123     $1.35M\n",
       "4  3176 W Canyon Ave, San Diego, CA 92123     - Sold"
      ]
     },
     "execution_count": 11,
     "metadata": {},
     "output_type": "execute_result"
    }
   ],
   "source": [
    "df_list[5].head()"
   ]
  },
  {
   "cell_type": "code",
   "execution_count": 18,
   "metadata": {},
   "outputs": [
    {
     "data": {
      "text/plain": [
       "'df_92126_3beds'"
      ]
     },
     "execution_count": 18,
     "metadata": {},
     "output_type": "execute_result"
    }
   ],
   "source": [
    "df_st = [\"df_92130_2beds\",\"df_92130_3beds\",\"df_92126_2beds\",\"df_92126_3beds\",\"df_92123_2beds\",\"df_92123_3beds\",\"df_92122_2beds\",\"df_92122_3beds\",\"df_92113_2beds\",\"df_92113_3beds\"\n",
    "          ,\"df_92037_2beds\",\"df_92037_3beds\",\"df_92020_2beds\",\"df_92020_3beds\",\"df_92014_2beds\",\"df_92014_3beds\",\"df_92950_2beds\",\"df_92950_3beds\"]\n",
    "\n",
    "df_list[]"
   ]
  },
  {
   "cell_type": "markdown",
   "metadata": {},
   "source": [
    "# Data Cleaning"
   ]
  },
  {
   "cell_type": "markdown",
   "metadata": {},
   "source": [
    "Describe your data cleaning steps here."
   ]
  },
  {
   "cell_type": "code",
   "execution_count": null,
   "metadata": {},
   "outputs": [],
   "source": [
    "## YOUR CODE HERE\n",
    "## FEEL FREE TO ADD MULTIPLE CELLS PER SECTION"
   ]
  }
 ],
 "metadata": {
  "kernelspec": {
   "display_name": "Python 3 (ipykernel)",
   "language": "python",
   "name": "python3"
  },
  "language_info": {
   "codemirror_mode": {
    "name": "ipython",
    "version": 3
   },
   "file_extension": ".py",
   "mimetype": "text/x-python",
   "name": "python",
   "nbconvert_exporter": "python",
   "pygments_lexer": "ipython3",
   "version": "3.9.5"
  }
 },
 "nbformat": 4,
 "nbformat_minor": 2
}
